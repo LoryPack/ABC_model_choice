{
 "cells": [
  {
   "cell_type": "code",
   "execution_count": 1,
   "metadata": {},
   "outputs": [],
   "source": [
    "import numpy as np\n",
    "import pandas as pd\n",
    "from scipy.special import factorial\n",
    "import matplotlib.pyplot as plt\n",
    "%matplotlib inline\n",
    "\n",
    "from ABC_MC import *\n",
    "from model_classes import *"
   ]
  },
  {
   "cell_type": "code",
   "execution_count": 2,
   "metadata": {},
   "outputs": [],
   "source": [
    "from ABC_MC import log_fact"
   ]
  },
  {
   "cell_type": "markdown",
   "metadata": {},
   "source": [
    "### The first thing that is interesting to see is the value of the BF as a function of the quantile used for inference. "
   ]
  },
  {
   "cell_type": "code",
   "execution_count": 3,
   "metadata": {},
   "outputs": [
    {
     "data": {
      "text/plain": [
       "16.7683721494293"
      ]
     },
     "execution_count": 3,
     "metadata": {},
     "output_type": "execute_result"
    }
   ],
   "source": [
    "# generate dataset\n",
    "dataset = np.random.poisson(0.5, 100)  # use a Poisson(0.5)\n",
    "true_BF(dataset)"
   ]
  },
  {
   "cell_type": "code",
   "execution_count": 4,
   "metadata": {},
   "outputs": [],
   "source": [
    "n_samples = 100\n",
    "n_sim = 30000\n",
    "models = (PoissonModel, GeometricModel)\n",
    "quantile = 0.05\n",
    "reference_statistics = compute_reference_statistics(dataset)"
   ]
  },
  {
   "cell_type": "code",
   "execution_count": 5,
   "metadata": {
    "scrolled": true
   },
   "outputs": [
    {
     "name": "stdout",
     "output_type": "stream",
     "text": [
      "CPU times: user 1min 16s, sys: 51.3 ms, total: 1min 16s\n",
      "Wall time: 1min 17s\n"
     ]
    }
   ],
   "source": [
    "%%time \n",
    "\n",
    "# generate the reference table (expensive step - do it only once)\n",
    "res = ABC_MC(models, n_samples, n_sim)"
   ]
  },
  {
   "cell_type": "markdown",
   "metadata": {},
   "source": [
    "Set the quantiles for which you want to have the plot"
   ]
  },
  {
   "cell_type": "code",
   "execution_count": 6,
   "metadata": {},
   "outputs": [],
   "source": [
    "quantiles = np.arange(0.001, 0.1, 0.0005)"
   ]
  },
  {
   "cell_type": "code",
   "execution_count": 7,
   "metadata": {},
   "outputs": [],
   "source": [
    "appr_BFs = np.zeros(len(quantiles))\n",
    "\n",
    "for i, quantile in enumerate(quantiles): \n",
    "\n",
    "    res_filtered = select_relevant_simulations(res, reference_statistics, quantile=quantile, \n",
    "                                               use_all_statistics=True)\n",
    "\n",
    "    try:\n",
    "        BF = sum(res_filtered[\"model\"]==0)/sum(res_filtered[\"model\"]==1)\n",
    "    except: \n",
    "        BF = np.infty\n",
    "\n",
    "    appr_BFs[i] = BF"
   ]
  },
  {
   "cell_type": "code",
   "execution_count": 8,
   "metadata": {},
   "outputs": [
    {
     "data": {
      "image/png": "[encoded data removed]",
      "text/plain": [
       "<Figure size 432x288 with 1 Axes>"
      ]
     },
     "metadata": {},
     "output_type": "display_data"
    }
   ],
   "source": [
    "plt.plot(quantiles, np.log(appr_BFs))\n",
    "plt.axhline(np.log(true_BF(dataset)), ls=\"--\", label=\"True BF\", color=\"orange\")\n",
    "\n",
    "plt.xlabel(\"Used quantile\")\n",
    "plt.ylabel(\"BF\")\n",
    "plt.legend()\n",
    "plt.show()"
   ]
  },
  {
   "cell_type": "markdown",
   "metadata": {},
   "source": [
    "## I can generate a single reference table (the expensive step) and simply use it to estimate the BF of all the observed datasets. "
   ]
  },
  {
   "cell_type": "code",
   "execution_count": 9,
   "metadata": {},
   "outputs": [],
   "source": [
    "n_sim = 30000\n",
    "models = (PoissonModel, GeometricModel)"
   ]
  },
  {
   "cell_type": "code",
   "execution_count": 10,
   "metadata": {
    "scrolled": true
   },
   "outputs": [
    {
     "name": "stdout",
     "output_type": "stream",
     "text": [
      "CPU times: user 1min 15s, sys: 69.2 ms, total: 1min 15s\n",
      "Wall time: 1min 16s\n"
     ]
    }
   ],
   "source": [
    "%%time \n",
    "\n",
    "# generate the reference table (expensive step - do it only once)\n",
    "res = ABC_MC(models, n_samples, n_sim)"
   ]
  },
  {
   "cell_type": "markdown",
   "metadata": {},
   "source": [
    "\n",
    "## Extract 1000 datasets with $n=100$ uniformly covering the range of $\\frac{P(\\mathcal M = 1|\\boldsymbol{y})}{P(\\mathcal M = 2|\\boldsymbol{y})+ P(\\mathcal M = 1|\\boldsymbol{y})}$ between 0.01 and 0.99. \n",
    "The implementation of this should be done using rejection sampling."
   ]
  },
  {
   "cell_type": "code",
   "execution_count": 11,
   "metadata": {},
   "outputs": [
    {
     "name": "stdout",
     "output_type": "stream",
     "text": [
      "CPU times: user 1min 15s, sys: 21.6 ms, total: 1min 16s\n",
      "Wall time: 1min 16s\n"
     ]
    }
   ],
   "source": [
    "%%time\n",
    "# first, generate a big number of datasets, to estimate the distribution of the BF/(1 + BF)\n",
    "\n",
    "n_samples = 100\n",
    "n_datasets = 20000\n",
    "\n",
    "trial_datasets = np.random.poisson(0.5, (n_datasets, n_samples))\n",
    "\n",
    "trial_datasets_summary = pd.DataFrame(columns=(\"s_1\", \"t_1\", \"trueBF\", \"appr_BF_all_stats\", \"appr_BF_1_stat\"))\n",
    "\n",
    "for i in range(n_datasets): \n",
    "    stats = compute_reference_statistics(trial_datasets[i])\n",
    "    trial_datasets_summary.loc[i] = [stats[\"s_1\"], stats[\"t_1\"], true_BF(trial_datasets[i]), None, None]\n",
    "    \n",
    "    "
   ]
  },
  {
   "cell_type": "markdown",
   "metadata": {},
   "source": [
    "Exclude the datasets for which $BF/(1 + BF) \\notin [0.01, 0.99] \\iff BF \\notin [0.0101, 98.9999] $"
   ]
  },
  {
   "cell_type": "code",
   "execution_count": 12,
   "metadata": {},
   "outputs": [],
   "source": [
    "lim_inf = (0.01/ 0.99)\n",
    "lim_sup = (0.01/ 0.99)**(-1)"
   ]
  },
  {
   "cell_type": "code",
   "execution_count": 13,
   "metadata": {},
   "outputs": [],
   "source": [
    "trial_datasets_summary_cleaned = trial_datasets_summary[(trial_datasets_summary[\"trueBF\"] > lim_inf) & \n",
    "                                                        (trial_datasets_summary[\"trueBF\"] < lim_sup)]"
   ]
  },
  {
   "cell_type": "code",
   "execution_count": 14,
   "metadata": {
    "scrolled": false
   },
   "outputs": [
    {
     "data": {
      "image/png": "[encoded data removed]",
      "text/plain": [
       "<Figure size 432x288 with 1 Axes>"
      ]
     },
     "metadata": {},
     "output_type": "display_data"
    }
   ],
   "source": [
    "n, bins, _ = plt.hist(\n",
    "    trial_datasets_summary_cleaned[\"trueBF\"]/(trial_datasets_summary_cleaned[\"trueBF\"] + 1), bins = 100)"
   ]
  },
  {
   "cell_type": "markdown",
   "metadata": {},
   "source": [
    "Now, for every bin we take 10 elements. In this way they will be approximately uniformly distributed. It is not very rigorous but it's not an important step."
   ]
  },
  {
   "cell_type": "code",
   "execution_count": 15,
   "metadata": {},
   "outputs": [
    {
     "name": "stderr",
     "output_type": "stream",
     "text": [
      "/usr/lib/python3.6/site-packages/ipykernel_launcher.py:1: SettingWithCopyWarning: \n",
      "A value is trying to be set on a copy of a slice from a DataFrame.\n",
      "Try using .loc[row_indexer,col_indexer] = value instead\n",
      "\n",
      "See the caveats in the documentation: http://pandas.pydata.org/pandas-docs/stable/indexing.html#indexing-view-versus-copy\n",
      "  \"\"\"Entry point for launching an IPython kernel.\n"
     ]
    }
   ],
   "source": [
    "trial_datasets_summary_cleaned[\"odds\"] = trial_datasets_summary_cleaned[\"trueBF\"]/(trial_datasets_summary_cleaned[\"trueBF\"] + 1)"
   ]
  },
  {
   "cell_type": "code",
   "execution_count": 16,
   "metadata": {},
   "outputs": [],
   "source": [
    "target_n_datasets = 1000\n",
    "n_elem_from_each_bin = target_n_datasets//(len(bins) - 1)\n",
    "\n",
    "final_datasets = pd.DataFrame()\n",
    "\n",
    "for i in range(len(bins) - 1): \n",
    "    trial_datasets_bin = \\\n",
    "    trial_datasets_summary_cleaned[(trial_datasets_summary_cleaned[\"odds\"] > bins[i]) & \n",
    "                                   (trial_datasets_summary_cleaned[\"odds\"] < bins[i+1])]\n",
    "    \n",
    "    try: \n",
    "        final_datasets = final_datasets.append(\n",
    "            trial_datasets_bin.loc[np.random.choice(trial_datasets_bin.index, n_elem_from_each_bin, replace=False)])\n",
    "            \n",
    "    except ValueError: \n",
    "        # in case there are not enough elements, simply take them all\n",
    "        final_datasets = final_datasets.append(trial_datasets_bin)  "
   ]
  },
  {
   "cell_type": "code",
   "execution_count": 17,
   "metadata": {},
   "outputs": [
    {
     "data": {
      "image/png": "[encoded data removed]",
      "text/plain": [
       "<Figure size 432x288 with 1 Axes>"
      ]
     },
     "metadata": {},
     "output_type": "display_data"
    }
   ],
   "source": [
    "_ = plt.hist(\n",
    "    final_datasets[\"trueBF\"]/(final_datasets[\"trueBF\"] + 1), bins = 100)"
   ]
  },
  {
   "cell_type": "markdown",
   "metadata": {},
   "source": [
    "## Now run the above stuff on this dataset: "
   ]
  },
  {
   "cell_type": "code",
   "execution_count": 18,
   "metadata": {
    "scrolled": true
   },
   "outputs": [
    {
     "name": "stdout",
     "output_type": "stream",
     "text": [
      "Number of simulations that are retained from the reference table: 75.0\n",
      "CPU times: user 10.9 s, sys: 1.01 s, total: 11.9 s\n",
      "Wall time: 9.57 s\n"
     ]
    }
   ],
   "source": [
    "%%time \n",
    "datasets_summary_final = estimate_BF_given_reference_table(res, final_datasets, quantile=0.0025)"
   ]
  },
  {
   "cell_type": "markdown",
   "metadata": {},
   "source": [
    "#### nice plot: "
   ]
  },
  {
   "cell_type": "code",
   "execution_count": 22,
   "metadata": {},
   "outputs": [
    {
     "data": {
      "image/png": "[encoded data removed]",
      "text/plain": [
       "<Figure size 1008x504 with 2 Axes>"
      ]
     },
     "metadata": {},
     "output_type": "display_data"
    }
   ],
   "source": [
    "fig, ax = plt.subplots(1, 2, figsize=(14,7))\n",
    "\n",
    "x = np.arange(-5, 5, 0.1)\n",
    "\n",
    "ax[0].plot(np.log(datasets_summary_final[\"trueBF\"]), np.log(datasets_summary_final[\"appr_BF_all_stats\"]), \".\", \n",
    "           markersize=1.5)\n",
    "ax[0].plot(x, x)\n",
    "ax[0].set_title(r\"Using $(s,t)$\")\n",
    "ax[0].set_xlabel(\"Analytical log(BF)\")\n",
    "ax[0].set_ylabel(\"Estimated log(BF)\")\n",
    "\n",
    "ax[1].plot(np.log(datasets_summary_final[\"trueBF\"]), np.log(datasets_summary_final[\"appr_BF_1_stat\"]), \".\", \n",
    "          markersize=1.5)\n",
    "ax[1].plot(x, x)\n",
    "ax[1].set_title(r\"Using only $s$\")\n",
    "ax[1].set_xlabel(\"Analytical log(BF)\")\n",
    "ax[1].set_ylabel(\"Estimated log(BF)\")\n",
    "\n",
    "#plt.savefig(\"Estimated_vs_analytical_BF.pdf\")\n",
    "plt.show()\n"
   ]
  }
 ],
 "metadata": {
  "kernelspec": {
   "display_name": "Python 3",
   "language": "python",
   "name": "python3"
  },
  "language_info": {
   "codemirror_mode": {
    "name": "ipython",
    "version": 3
   },
   "file_extension": ".py",
   "mimetype": "text/x-python",
   "name": "python",
   "nbconvert_exporter": "python",
   "pygments_lexer": "ipython3",
   "version": "3.6.8"
  }
 },
 "nbformat": 4,
 "nbformat_minor": 2
}
